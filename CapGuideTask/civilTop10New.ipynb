{
 "cells": [
  {
   "cell_type": "markdown",
   "metadata": {},
   "source": [
    "## We will determine the top 10 colleges to offer Civil Engineering in Savitribai Phule University!"
   ]
  },
  {
   "cell_type": "markdown",
   "metadata": {},
   "source": [
    "Previously defined top 10 colleges using GOPEN ranks only : https://github.com/vishxm/DataScienceNBs/blob/master/CapGuideTask/civilTop10.ipynb"
   ]
  },
  {
   "cell_type": "markdown",
   "metadata": {},
   "source": [
    "### For that, we will take ranks of home university seats! "
   ]
  },
  {
   "cell_type": "markdown",
   "metadata": {},
   "source": [
    "Importing libraries"
   ]
  },
  {
   "cell_type": "code",
   "execution_count": 1,
   "metadata": {},
   "outputs": [],
   "source": [
    "import pandas as pd\n",
    "import numpy as np\n",
    "import PyPDF2"
   ]
  },
  {
   "cell_type": "code",
   "execution_count": 2,
   "metadata": {},
   "outputs": [],
   "source": [
    "table_names = [f'Table {i}' for i in range(1,80)]"
   ]
  },
  {
   "cell_type": "code",
   "execution_count": 3,
   "metadata": {},
   "outputs": [],
   "source": [
    "xl_file = pd.ExcelFile('needed_pages.xlsx')\n",
    "college_df = pd.read_csv('college_Open.csv')"
   ]
  },
  {
   "cell_type": "markdown",
   "metadata": {},
   "source": [
    "#### We need to incorporate data of LOPEN and GOPEN ranks for better analysis."
   ]
  },
  {
   "cell_type": "markdown",
   "metadata": {},
   "source": [
    "#### For that we will take the top 20 colleges and then retrieve their LOPEN ranks"
   ]
  },
  {
   "cell_type": "code",
   "execution_count": 4,
   "metadata": {},
   "outputs": [],
   "source": [
    "#We add the TableName column for the correct reference to the worksheet in excel file\n",
    "college_df['TableName'] = table_names"
   ]
  },
  {
   "cell_type": "code",
   "execution_count": 5,
   "metadata": {},
   "outputs": [],
   "source": [
    "req_df = college_df.sort_values('CutOff_Ranks').head(20)"
   ]
  },
  {
   "cell_type": "code",
   "execution_count": 6,
   "metadata": {},
   "outputs": [
    {
     "data": {
      "text/html": [
       "<div>\n",
       "<style scoped>\n",
       "    .dataframe tbody tr th:only-of-type {\n",
       "        vertical-align: middle;\n",
       "    }\n",
       "\n",
       "    .dataframe tbody tr th {\n",
       "        vertical-align: top;\n",
       "    }\n",
       "\n",
       "    .dataframe thead th {\n",
       "        text-align: right;\n",
       "    }\n",
       "</style>\n",
       "<table border=\"1\" class=\"dataframe\">\n",
       "  <thead>\n",
       "    <tr style=\"text-align: right;\">\n",
       "      <th></th>\n",
       "      <th>College_ID</th>\n",
       "      <th>College_Name</th>\n",
       "      <th>GOPEN</th>\n",
       "      <th>TableName</th>\n",
       "    </tr>\n",
       "  </thead>\n",
       "  <tbody>\n",
       "    <tr>\n",
       "      <th>28</th>\n",
       "      <td>6006</td>\n",
       "      <td>College of Engineering, Pune</td>\n",
       "      <td>1255</td>\n",
       "      <td>Table 29</td>\n",
       "    </tr>\n",
       "    <tr>\n",
       "      <th>27</th>\n",
       "      <td>6004</td>\n",
       "      <td>Government College of Engineering &amp; Research, ...</td>\n",
       "      <td>12456</td>\n",
       "      <td>Table 28</td>\n",
       "    </tr>\n",
       "    <tr>\n",
       "      <th>38</th>\n",
       "      <td>6175</td>\n",
       "      <td>Pimpri Chinchwad Education Trust, Pimpri Chinc...</td>\n",
       "      <td>12971</td>\n",
       "      <td>Table 39</td>\n",
       "    </tr>\n",
       "    <tr>\n",
       "      <th>53</th>\n",
       "      <td>6289</td>\n",
       "      <td>B.R.A.C.T's Vishwakarma Institute of Informati...</td>\n",
       "      <td>14178</td>\n",
       "      <td>Table 54</td>\n",
       "    </tr>\n",
       "    <tr>\n",
       "      <th>33</th>\n",
       "      <td>6146</td>\n",
       "      <td>MIT Academy of Engineering,Alandi, Pune</td>\n",
       "      <td>16173</td>\n",
       "      <td>Table 34</td>\n",
       "    </tr>\n",
       "    <tr>\n",
       "      <th>2</th>\n",
       "      <td>5121</td>\n",
       "      <td>K. K. Wagh Institute of Engineering Education ...</td>\n",
       "      <td>22937</td>\n",
       "      <td>Table 3</td>\n",
       "    </tr>\n",
       "    <tr>\n",
       "      <th>59</th>\n",
       "      <td>6325</td>\n",
       "      <td>Alard  Charitable Trust's Alard College of Eng...</td>\n",
       "      <td>23543</td>\n",
       "      <td>Table 60</td>\n",
       "    </tr>\n",
       "    <tr>\n",
       "      <th>51</th>\n",
       "      <td>6278</td>\n",
       "      <td>All India Shri Shivaji Memorial Society's Coll...</td>\n",
       "      <td>28635</td>\n",
       "      <td>Table 52</td>\n",
       "    </tr>\n",
       "    <tr>\n",
       "      <th>16</th>\n",
       "      <td>5184</td>\n",
       "      <td>Amruta Vaishnavi Education &amp; Welfare Trust's S...</td>\n",
       "      <td>32066</td>\n",
       "      <td>Table 17</td>\n",
       "    </tr>\n",
       "    <tr>\n",
       "      <th>3</th>\n",
       "      <td>5121</td>\n",
       "      <td>K. K. Wagh Institute of Engineering Education ...</td>\n",
       "      <td>32662</td>\n",
       "      <td>Table 4</td>\n",
       "    </tr>\n",
       "    <tr>\n",
       "      <th>40</th>\n",
       "      <td>6177</td>\n",
       "      <td>Sinhgad College of Engineering, Vadgaon (BK), ...</td>\n",
       "      <td>32805</td>\n",
       "      <td>Table 41</td>\n",
       "    </tr>\n",
       "    <tr>\n",
       "      <th>31</th>\n",
       "      <td>6141</td>\n",
       "      <td>Jaywant Shikshan Prasarak Mandal's,Rajarshi Sh...</td>\n",
       "      <td>32932</td>\n",
       "      <td>Table 32</td>\n",
       "    </tr>\n",
       "    <tr>\n",
       "      <th>10</th>\n",
       "      <td>5162</td>\n",
       "      <td>Amrutvahini Sheti &amp; Shikshan Vikas Sanstha's A...</td>\n",
       "      <td>34835</td>\n",
       "      <td>Table 11</td>\n",
       "    </tr>\n",
       "    <tr>\n",
       "      <th>9</th>\n",
       "      <td>5161</td>\n",
       "      <td>Dr. Vithalrao Vikhe Patil College of Engineeri...</td>\n",
       "      <td>36668</td>\n",
       "      <td>Table 10</td>\n",
       "    </tr>\n",
       "    <tr>\n",
       "      <th>6</th>\n",
       "      <td>5139</td>\n",
       "      <td>Pravara Rural College of Engineering, Loni, Pr...</td>\n",
       "      <td>37793</td>\n",
       "      <td>Table 7</td>\n",
       "    </tr>\n",
       "    <tr>\n",
       "      <th>8</th>\n",
       "      <td>5160</td>\n",
       "      <td>Sanjivani Rural Education Society's Sanjivani ...</td>\n",
       "      <td>37829</td>\n",
       "      <td>Table 9</td>\n",
       "    </tr>\n",
       "    <tr>\n",
       "      <th>0</th>\n",
       "      <td>5108</td>\n",
       "      <td>Nashik District Maratha Vidya Prasarak Samaj's...</td>\n",
       "      <td>38617</td>\n",
       "      <td>Table 1</td>\n",
       "    </tr>\n",
       "    <tr>\n",
       "      <th>7</th>\n",
       "      <td>5151</td>\n",
       "      <td>MET Bhujbal Knowledge City MET League's Engine...</td>\n",
       "      <td>39672</td>\n",
       "      <td>Table 8</td>\n",
       "    </tr>\n",
       "    <tr>\n",
       "      <th>32</th>\n",
       "      <td>6144</td>\n",
       "      <td>Genba Sopanrao Moze College of Engineering, Ba...</td>\n",
       "      <td>39934</td>\n",
       "      <td>Table 33</td>\n",
       "    </tr>\n",
       "    <tr>\n",
       "      <th>48</th>\n",
       "      <td>6272</td>\n",
       "      <td>Dr. D. Y. Patil Pratishthan's D.Y.Patil Colleg...</td>\n",
       "      <td>40070</td>\n",
       "      <td>Table 49</td>\n",
       "    </tr>\n",
       "  </tbody>\n",
       "</table>\n",
       "</div>"
      ],
      "text/plain": [
       "    College_ID                                       College_Name  GOPEN  \\\n",
       "28        6006                       College of Engineering, Pune   1255   \n",
       "27        6004  Government College of Engineering & Research, ...  12456   \n",
       "38        6175  Pimpri Chinchwad Education Trust, Pimpri Chinc...  12971   \n",
       "53        6289  B.R.A.C.T's Vishwakarma Institute of Informati...  14178   \n",
       "33        6146            MIT Academy of Engineering,Alandi, Pune  16173   \n",
       "2         5121  K. K. Wagh Institute of Engineering Education ...  22937   \n",
       "59        6325  Alard  Charitable Trust's Alard College of Eng...  23543   \n",
       "51        6278  All India Shri Shivaji Memorial Society's Coll...  28635   \n",
       "16        5184  Amruta Vaishnavi Education & Welfare Trust's S...  32066   \n",
       "3         5121  K. K. Wagh Institute of Engineering Education ...  32662   \n",
       "40        6177  Sinhgad College of Engineering, Vadgaon (BK), ...  32805   \n",
       "31        6141  Jaywant Shikshan Prasarak Mandal's,Rajarshi Sh...  32932   \n",
       "10        5162  Amrutvahini Sheti & Shikshan Vikas Sanstha's A...  34835   \n",
       "9         5161  Dr. Vithalrao Vikhe Patil College of Engineeri...  36668   \n",
       "6         5139  Pravara Rural College of Engineering, Loni, Pr...  37793   \n",
       "8         5160  Sanjivani Rural Education Society's Sanjivani ...  37829   \n",
       "0         5108  Nashik District Maratha Vidya Prasarak Samaj's...  38617   \n",
       "7         5151  MET Bhujbal Knowledge City MET League's Engine...  39672   \n",
       "32        6144  Genba Sopanrao Moze College of Engineering, Ba...  39934   \n",
       "48        6272  Dr. D. Y. Patil Pratishthan's D.Y.Patil Colleg...  40070   \n",
       "\n",
       "   TableName  \n",
       "28  Table 29  \n",
       "27  Table 28  \n",
       "38  Table 39  \n",
       "53  Table 54  \n",
       "33  Table 34  \n",
       "2    Table 3  \n",
       "59  Table 60  \n",
       "51  Table 52  \n",
       "16  Table 17  \n",
       "3    Table 4  \n",
       "40  Table 41  \n",
       "31  Table 32  \n",
       "10  Table 11  \n",
       "9   Table 10  \n",
       "6    Table 7  \n",
       "8    Table 9  \n",
       "0    Table 1  \n",
       "7    Table 8  \n",
       "32  Table 33  \n",
       "48  Table 49  "
      ]
     },
     "execution_count": 6,
     "metadata": {},
     "output_type": "execute_result"
    }
   ],
   "source": [
    "req_df = req_df.drop(columns=['Unnamed: 0'])\n",
    "req_df = req_df.rename(columns={'CutOff_Ranks':'GOPEN'})\n",
    "req_df"
   ]
  },
  {
   "cell_type": "code",
   "execution_count": 7,
   "metadata": {},
   "outputs": [],
   "source": [
    "def findLOPEN(a):\n",
    "    for i,k in enumerate(a):\n",
    "        try:\n",
    "            if k[:5] == 'LOPEN':\n",
    "                return i\n",
    "        except TypeError:\n",
    "            return -1\n",
    "    return -1"
   ]
  },
  {
   "cell_type": "markdown",
   "metadata": {},
   "source": [
    "#### Above function can be used to find LOPENS or LOPENH category in the table and then used the returned index to scrape the cutoff ranks for that category!"
   ]
  },
  {
   "cell_type": "code",
   "execution_count": 8,
   "metadata": {},
   "outputs": [],
   "source": [
    "LOPENScores = []"
   ]
  },
  {
   "cell_type": "code",
   "execution_count": 9,
   "metadata": {},
   "outputs": [],
   "source": [
    "for i in range(20):\n",
    "    xl_sheet = pd.read_excel(xl_file, req_df.iloc[i,3]) #read the xl sheet corresponding to the row\n",
    "    listocolumns = xl_sheet.columns.values #saving the names to search for re(LOPEN.)\n",
    "    if len(listocolumns) == 2:\n",
    "        LOPENScores.append(0)\n",
    "        continue\n",
    "        \n",
    "    flag = findLOPEN(listocolumns)\n",
    "    if flag == -1: #if not found search in the first row\n",
    "        listocolumns = xl_sheet.iloc[0,:].values \n",
    "        if len(listocolumns) == 2:\n",
    "            LOPENScores.append(0)\n",
    "            continue\n",
    "            \n",
    "        flag2 = findLOPEN(listocolumns)\n",
    "        if flag2 == -1: #if not found append GOPEN scores only\n",
    "            LOPENScores.append(0) \n",
    "        else:\n",
    "            LOPENScores.append((xl_sheet.iloc[1,flag2]).split('\\n')[0]) #if LOPEN in row then LOPEN scores in the next row\n",
    "    else:\n",
    "        LOPENScores.append((xl_sheet.iloc[0,flag]).split('\\n')[0]) #if LOPEN in columns then LOPEN scores in the 1st row"
   ]
  },
  {
   "cell_type": "code",
   "execution_count": 10,
   "metadata": {},
   "outputs": [
    {
     "data": {
      "text/plain": [
       "[2312,\n",
       " 13060,\n",
       " 11669,\n",
       " 20953,\n",
       " 15821,\n",
       " 25089,\n",
       " 0,\n",
       " 29723,\n",
       " 70534,\n",
       " 38821,\n",
       " 48041,\n",
       " 52624,\n",
       " 35804,\n",
       " 36368,\n",
       " 40191,\n",
       " 37010,\n",
       " 0,\n",
       " 44749,\n",
       " 0,\n",
       " 42759]"
      ]
     },
     "execution_count": 10,
     "metadata": {},
     "output_type": "execute_result"
    }
   ],
   "source": [
    "for i in range(len(LOPENScores)):\n",
    "    LOPENScores[i] = int(LOPENScores[i])\n",
    "    \n",
    "LOPENScores"
   ]
  },
  {
   "cell_type": "code",
   "execution_count": 11,
   "metadata": {},
   "outputs": [],
   "source": [
    "X_train = []\n",
    "y_train = []\n",
    "X_ip = []\n",
    "\n",
    "for i in range(20):\n",
    "    if LOPENScores[i] == 0:\n",
    "        X_ip.append(req_df.iloc[i,2])\n",
    "    else:\n",
    "        X_train.append(req_df.iloc[i,2])\n",
    "        y_train.append(LOPENScores[i])"
   ]
  },
  {
   "cell_type": "code",
   "execution_count": 12,
   "metadata": {},
   "outputs": [],
   "source": [
    "from sklearn.linear_model import LinearRegression\n",
    "\n",
    "X_train = np.array(X_train).reshape(-1, 1)\n",
    "y_train = np.array(y_train).reshape(-1, 1)\n",
    "X_ip = np.array(X_ip).reshape(-1, 1)\n",
    "\n",
    "reg = LinearRegression().fit(X_train, y_train)\n",
    "y_pred = reg.predict(X_ip)\n",
    "y_pred = y_pred.tolist()"
   ]
  },
  {
   "cell_type": "code",
   "execution_count": 13,
   "metadata": {},
   "outputs": [],
   "source": [
    "for i in range(len(y_pred)):\n",
    "    y_pred[i] = int(round(y_pred[i][0]))"
   ]
  },
  {
   "cell_type": "code",
   "execution_count": 14,
   "metadata": {},
   "outputs": [],
   "source": [
    "j = 0 \n",
    "for i in range(len(LOPENScores)):\n",
    "    if LOPENScores[i] == 0:\n",
    "        LOPENScores[i] = y_pred[j]\n",
    "        j = j+1"
   ]
  },
  {
   "cell_type": "code",
   "execution_count": 15,
   "metadata": {},
   "outputs": [],
   "source": [
    "req_df['LOPEN'] = LOPENScores"
   ]
  },
  {
   "cell_type": "code",
   "execution_count": 16,
   "metadata": {},
   "outputs": [],
   "source": [
    "meanoranks = req_df['GOPEN'] + req_df['LOPEN']"
   ]
  },
  {
   "cell_type": "code",
   "execution_count": 17,
   "metadata": {},
   "outputs": [],
   "source": [
    "meanoranks = meanoranks*0.5"
   ]
  },
  {
   "cell_type": "code",
   "execution_count": 18,
   "metadata": {},
   "outputs": [],
   "source": [
    "req_df['Mean'] = meanoranks"
   ]
  },
  {
   "cell_type": "code",
   "execution_count": 19,
   "metadata": {},
   "outputs": [
    {
     "data": {
      "text/html": [
       "<div>\n",
       "<style scoped>\n",
       "    .dataframe tbody tr th:only-of-type {\n",
       "        vertical-align: middle;\n",
       "    }\n",
       "\n",
       "    .dataframe tbody tr th {\n",
       "        vertical-align: top;\n",
       "    }\n",
       "\n",
       "    .dataframe thead th {\n",
       "        text-align: right;\n",
       "    }\n",
       "</style>\n",
       "<table border=\"1\" class=\"dataframe\">\n",
       "  <thead>\n",
       "    <tr style=\"text-align: right;\">\n",
       "      <th></th>\n",
       "      <th>College_ID</th>\n",
       "      <th>College_Name</th>\n",
       "      <th>GOPEN</th>\n",
       "      <th>TableName</th>\n",
       "      <th>LOPEN</th>\n",
       "      <th>Mean</th>\n",
       "    </tr>\n",
       "  </thead>\n",
       "  <tbody>\n",
       "    <tr>\n",
       "      <th>28</th>\n",
       "      <td>6006</td>\n",
       "      <td>College of Engineering, Pune</td>\n",
       "      <td>1255</td>\n",
       "      <td>Table 29</td>\n",
       "      <td>2312</td>\n",
       "      <td>1783.5</td>\n",
       "    </tr>\n",
       "    <tr>\n",
       "      <th>27</th>\n",
       "      <td>6004</td>\n",
       "      <td>Government College of Engineering &amp; Research, ...</td>\n",
       "      <td>12456</td>\n",
       "      <td>Table 28</td>\n",
       "      <td>13060</td>\n",
       "      <td>12758.0</td>\n",
       "    </tr>\n",
       "    <tr>\n",
       "      <th>38</th>\n",
       "      <td>6175</td>\n",
       "      <td>Pimpri Chinchwad Education Trust, Pimpri Chinc...</td>\n",
       "      <td>12971</td>\n",
       "      <td>Table 39</td>\n",
       "      <td>11669</td>\n",
       "      <td>12320.0</td>\n",
       "    </tr>\n",
       "    <tr>\n",
       "      <th>53</th>\n",
       "      <td>6289</td>\n",
       "      <td>B.R.A.C.T's Vishwakarma Institute of Informati...</td>\n",
       "      <td>14178</td>\n",
       "      <td>Table 54</td>\n",
       "      <td>20953</td>\n",
       "      <td>17565.5</td>\n",
       "    </tr>\n",
       "    <tr>\n",
       "      <th>33</th>\n",
       "      <td>6146</td>\n",
       "      <td>MIT Academy of Engineering,Alandi, Pune</td>\n",
       "      <td>16173</td>\n",
       "      <td>Table 34</td>\n",
       "      <td>15821</td>\n",
       "      <td>15997.0</td>\n",
       "    </tr>\n",
       "    <tr>\n",
       "      <th>2</th>\n",
       "      <td>5121</td>\n",
       "      <td>K. K. Wagh Institute of Engineering Education ...</td>\n",
       "      <td>22937</td>\n",
       "      <td>Table 3</td>\n",
       "      <td>25089</td>\n",
       "      <td>24013.0</td>\n",
       "    </tr>\n",
       "    <tr>\n",
       "      <th>59</th>\n",
       "      <td>6325</td>\n",
       "      <td>Alard  Charitable Trust's Alard College of Eng...</td>\n",
       "      <td>23543</td>\n",
       "      <td>Table 60</td>\n",
       "      <td>28690</td>\n",
       "      <td>26116.5</td>\n",
       "    </tr>\n",
       "    <tr>\n",
       "      <th>51</th>\n",
       "      <td>6278</td>\n",
       "      <td>All India Shri Shivaji Memorial Society's Coll...</td>\n",
       "      <td>28635</td>\n",
       "      <td>Table 52</td>\n",
       "      <td>29723</td>\n",
       "      <td>29179.0</td>\n",
       "    </tr>\n",
       "    <tr>\n",
       "      <th>16</th>\n",
       "      <td>5184</td>\n",
       "      <td>Amruta Vaishnavi Education &amp; Welfare Trust's S...</td>\n",
       "      <td>32066</td>\n",
       "      <td>Table 17</td>\n",
       "      <td>70534</td>\n",
       "      <td>51300.0</td>\n",
       "    </tr>\n",
       "    <tr>\n",
       "      <th>3</th>\n",
       "      <td>5121</td>\n",
       "      <td>K. K. Wagh Institute of Engineering Education ...</td>\n",
       "      <td>32662</td>\n",
       "      <td>Table 4</td>\n",
       "      <td>38821</td>\n",
       "      <td>35741.5</td>\n",
       "    </tr>\n",
       "  </tbody>\n",
       "</table>\n",
       "</div>"
      ],
      "text/plain": [
       "    College_ID                                       College_Name  GOPEN  \\\n",
       "28        6006                       College of Engineering, Pune   1255   \n",
       "27        6004  Government College of Engineering & Research, ...  12456   \n",
       "38        6175  Pimpri Chinchwad Education Trust, Pimpri Chinc...  12971   \n",
       "53        6289  B.R.A.C.T's Vishwakarma Institute of Informati...  14178   \n",
       "33        6146            MIT Academy of Engineering,Alandi, Pune  16173   \n",
       "2         5121  K. K. Wagh Institute of Engineering Education ...  22937   \n",
       "59        6325  Alard  Charitable Trust's Alard College of Eng...  23543   \n",
       "51        6278  All India Shri Shivaji Memorial Society's Coll...  28635   \n",
       "16        5184  Amruta Vaishnavi Education & Welfare Trust's S...  32066   \n",
       "3         5121  K. K. Wagh Institute of Engineering Education ...  32662   \n",
       "\n",
       "   TableName  LOPEN     Mean  \n",
       "28  Table 29   2312   1783.5  \n",
       "27  Table 28  13060  12758.0  \n",
       "38  Table 39  11669  12320.0  \n",
       "53  Table 54  20953  17565.5  \n",
       "33  Table 34  15821  15997.0  \n",
       "2    Table 3  25089  24013.0  \n",
       "59  Table 60  28690  26116.5  \n",
       "51  Table 52  29723  29179.0  \n",
       "16  Table 17  70534  51300.0  \n",
       "3    Table 4  38821  35741.5  "
      ]
     },
     "execution_count": 19,
     "metadata": {},
     "output_type": "execute_result"
    }
   ],
   "source": [
    "req_df.head(10)"
   ]
  },
  {
   "cell_type": "code",
   "execution_count": 22,
   "metadata": {},
   "outputs": [
    {
     "data": {
      "text/plain": [
       "Text(0.5, 1.0, 'Cut-off rank distribution for top 10 colleges')"
      ]
     },
     "execution_count": 22,
     "metadata": {},
     "output_type": "execute_result"
    },
    {
     "data": {
      "image/png": "[encoded data removed]",
      "text/plain": [
       "<Figure size 2000x800 with 1 Axes>"
      ]
     },
     "metadata": {
      "needs_background": "light"
     },
     "output_type": "display_data"
    }
   ],
   "source": [
    "import matplotlib.pyplot as plt\n",
    "f, ax = plt.subplots(figsize=(10,4), dpi=200)\n",
    "req_df = req_df.sort_values('Mean')\n",
    "req_df.to_csv('college_GL_Open.csv')\n",
    "ax = req_df[['GOPEN','LOPEN','Mean']].head(10).plot(kind='barh', ax=ax)\n",
    "plt.ylabel('College ID')\n",
    "plt.xlabel('Cut-off ranks')\n",
    "plt.title('Cut-off rank distribution for top 10 colleges')"
   ]
  },
  {
   "cell_type": "code",
   "execution_count": 23,
   "metadata": {},
   "outputs": [
    {
     "name": "stdout",
     "output_type": "stream",
     "text": [
      "Top 10 colleges for civil engineering in Savitribai Phule University : \n",
      "\n",
      "1. College of Engineering, Pune - 6006\n",
      "2. Pimpri Chinchwad Education Trust, Pimpri Chinchwad College of Engineering, Pune - 6175\n",
      "3. Government College of Engineering & Research, Avasari Khurd - 6004\n",
      "4. MIT Academy of Engineering,Alandi, Pune - 6146\n",
      "5. B.R.A.C.T's Vishwakarma Institute of Information Technology, Kondhwa (Bk.), Pune - 6289\n",
      "6. K. K. Wagh Institute of Engineering Education and Research, Nashik - 5121\n",
      "7. Alard  Charitable Trust's Alard College of Engineering and Management, Pune - 6325\n",
      "8. All India Shri Shivaji Memorial Society's College of Engineering, Pune - 6278\n",
      "9. Amrutvahini Sheti & Shikshan Vikas Sanstha's Amrutvahini College of Engineering, Sangamner - 5162\n",
      "10. K. K. Wagh Institute of Engineering Education and Research, Nashik - 5121\n"
     ]
    }
   ],
   "source": [
    "print(\"Top 10 colleges for civil engineering in Savitribai Phule University : \",end='\\n\\n')\n",
    "for i in range(10):\n",
    "    print(\"{}. \".format(i+1), end='')\n",
    "    print(req_df.iloc[i,1], end=' - ')\n",
    "    print(req_df.iloc[i,0])"
   ]
  },
  {
   "cell_type": "markdown",
   "metadata": {},
   "source": [
    "# Report :"
   ]
  },
  {
   "cell_type": "markdown",
   "metadata": {},
   "source": [
    "### 1. In order to find the true top 10 colleges, we need to consider more data. More data can be brought in by considering other cutoff ranks for different categories. Upon inspection, it was found that most of the colleges had LOPEN category in them. Most of the colleges didn't have all the different categories. So, LOPEN along with GOPEN category can be used to find out the top 10 colleges."
   ]
  },
  {
   "cell_type": "markdown",
   "metadata": {},
   "source": [
    "### 2. Some of the colleges didn't have LOPEN category as well. Now to solve that issue, regression analysis was done on the GOPEN ranks to determine the LOPEN ranks for the respective colleges. "
   ]
  },
  {
   "cell_type": "markdown",
   "metadata": {},
   "source": [
    "### 3. After the incorporation of LOPEN ranks in the analysis, the mean was calculated of the GOPEN and LOPEN categories. And finally, the records were sorted by the values of the calculated means to get the top 10 colleges.   \n",
    "\n"
   ]
  },
  {
   "cell_type": "markdown",
   "metadata": {},
   "source": [
    "## Conclusion :\n"
   ]
  },
  {
   "cell_type": "markdown",
   "metadata": {},
   "source": [
    "### We understand that more the data, better the analysis. The ranking changed when we took LOPEN cut-off ranks into account. The order of top 10 colleges changed and we can say that this is more refined order of the top 10 colleges to do Civil Engineering whose home university is Savitribai Phule University!"
   ]
  }
 ],
 "metadata": {
  "kernelspec": {
   "display_name": "Python 3",
   "language": "python",
   "name": "python3"
  },
  "language_info": {
   "codemirror_mode": {
    "name": "ipython",
    "version": 3
   },
   "file_extension": ".py",
   "mimetype": "text/x-python",
   "name": "python",
   "nbconvert_exporter": "python",
   "pygments_lexer": "ipython3",
   "version": "3.8.3"
  }
 },
 "nbformat": 4,
 "nbformat_minor": 4
}
